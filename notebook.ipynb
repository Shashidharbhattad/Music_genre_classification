{
  "cells": [
    {
      "cell_type": "markdown",
      "metadata": {},
      "source": [
        "# Music Genre Classification - Notebook\n\nStep-by-step notebook: load data, extract mel-spectrograms, build a CNN, train, and evaluate."
      ]
    },
    {
      "cell_type": "code",
      "metadata": {},
      "source": [
        "!pip install -q librosa tensorflow scikit-learn matplotlib numpy"
      ],
      "outputs": [],
      "execution_count": null
    },
    {
      "cell_type": "code",
      "metadata": {},
      "source": [
        "import os\nimport numpy as np\nimport matplotlib.pyplot as plt\nimport librosa\nfrom utils import extract_mel_spectrogram, load_audio, pad_or_truncate\nfrom model import build_cnn\n\n# Example: visualize mel-spectrogram of a single file\npath = 'data/genres/classical/classical.00000.wav'\nif os.path.exists(path):\n    y = load_audio(path, sr=22050, duration=30)\n    y = pad_or_truncate(y, sr=22050, duration=30)\n    S = extract_mel_spectrogram(y, sr=22050)\n    plt.figure(figsize=(10,4))\n    plt.title('Mel spectrogram')\n    librosa.display.specshow(S, sr=22050, hop_length=512, x_axis='time', y_axis='mel')\n    plt.colorbar(format='%+2.0f dB')\n    plt.show()\nelse:\n    print('Sample file not found. Upload your dataset to data/genres/<genre>/*.wav')\n"
      ],
      "outputs": [],
      "execution_count": null
    }
  ],
  "metadata": {
    "kernelspec": {
      "display_name": "Python 3",
      "language": "python",
      "name": "python3"
    },
    "language_info": {
      "name": "python"
    }
  },
  "nbformat": 4,
  "nbformat_minor": 5
}